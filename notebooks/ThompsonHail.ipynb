{
 "cells": [
  {
   "cell_type": "code",
   "execution_count": 34,
   "metadata": {},
   "outputs": [],
   "source": [
    "%matplotlib inline\n",
    "import matplotlib.pyplot as plt\n",
    "import numpy as np\n",
    "import pandas as pd\n",
    "import xarray as xr\n",
    "from multiprocessing import Pool\n",
    "from glob import glob\n",
    "from os.path import join\n",
    "from pyproj import Proj\n",
    "from sklearn.mixture import GaussianMixture\n",
    "from sklearn.neighbors import KernelDensity\n",
    "from hagelslag.evaluation.ContingencyTable import ContingencyTable\n",
    "def load_storm_data_file(data_file, variable_names):\n",
    "    try:\n",
    "        run_filename = data_file.split(\"/\")[-1][:-3].split(\"_\")\n",
    "        member = int(run_filename[6])\n",
    "        run_date = run_filename[4]\n",
    "        ds = xr.open_dataset(data_file)\n",
    "        patch_arr = []\n",
    "        all_vars = list(ds.variables.keys())\n",
    "        meta_cols = [\"center_lon\", \"center_lat\", \"valid_dates\", \"run_dates\", \"members\"]\n",
    "        return_dict = {\"data_file\": data_file, \"meta\": None, \"data_patches\": None}\n",
    "        if np.all(np.in1d(variable_names, all_vars)):\n",
    "            meta_dict = {}\n",
    "            meta_dict[\"center_lon\"] = ds[\"longitude\"][:, 32, 32].values\n",
    "            meta_dict[\"center_lat\"] = ds[\"latitude\"][:, 32, 32].values\n",
    "            meta_dict[\"valid_dates\"] = pd.DatetimeIndex(ds[\"valid_date\"].values)\n",
    "            meta_dict[\"run_dates\"] = np.tile(run_date, meta_dict[\"valid_dates\"].size)\n",
    "            meta_dict[\"members\"] = np.tile(member, meta_dict[\"valid_dates\"].size)\n",
    "            return_dict[\"meta\"] = pd.DataFrame(meta_dict, columns=meta_cols)\n",
    "            for variable in variable_names:\n",
    "                patch_arr.append(ds[variable][:, 16:-16, 16:-16].values.astype(np.float32))\n",
    "            return_dict[\"data_patches\"] = np.stack(patch_arr, axis=-1)\n",
    "            print(data_file, return_dict[\"meta\"].size)\n",
    "        ds.close()\n",
    "        del patch_arr[:]\n",
    "        del patch_arr\n",
    "        del ds\n",
    "        return return_dict\n",
    "    except Exception as e:\n",
    "        print(traceback.format_exc())\n",
    "        raise e\n",
    "        \n",
    "def load_storm_patch_data(data_path, variable_names, n_procs):\n",
    "    \"\"\"\n",
    "\n",
    "\n",
    "    Args:\n",
    "        data_path:\n",
    "        variable_names:\n",
    "        n_procs:\n",
    "\n",
    "    Returns:\n",
    "\n",
    "    \"\"\"\n",
    "    data_patches = []\n",
    "    data_meta = []\n",
    "\n",
    "    data_files = sorted(glob(join(data_path, \"*.nc\")))\n",
    "    pool = Pool(n_procs, maxtasksperchild=1)\n",
    "    file_check = data_files[:]\n",
    "\n",
    "    def combine_storm_data_files(return_obj):\n",
    "        f_index = file_check.index(return_obj[\"data_file\"])\n",
    "        if return_obj[\"meta\"] is not None:\n",
    "            data_patches[f_index] = return_obj[\"data_patches\"]\n",
    "            data_meta[f_index] = return_obj[\"meta\"]\n",
    "        else:\n",
    "            file_check.pop(f_index)\n",
    "            data_patches.pop(f_index)\n",
    "            data_meta.pop(f_index)\n",
    "\n",
    "    for data_file in data_files:\n",
    "        data_patches.append(None)\n",
    "        data_meta.append(None)\n",
    "        pool.apply_async(load_storm_data_file, (data_file, variable_names), callback=combine_storm_data_files)\n",
    "    pool.close()\n",
    "    pool.join()\n",
    "    del pool\n",
    "    all_data = np.vstack(data_patches)\n",
    "    all_meta = pd.concat(data_meta, ignore_index=True)\n",
    "    return all_data, all_meta\n",
    "\n",
    "distances = np.arange(20000, 220000, 20000)"
   ]
  },
  {
   "cell_type": "code",
   "execution_count": null,
   "metadata": {},
   "outputs": [],
   "source": []
  },
  {
   "cell_type": "code",
   "execution_count": 2,
   "metadata": {},
   "outputs": [
    {
     "name": "stdout",
     "output_type": "stream",
     "text": [
      "/glade/work/dgagne/ncar_ens_storm_patches/ncar_ens_storm_patches_2016050300_mem_01.nc 640\n",
      "/glade/work/dgagne/ncar_ens_storm_patches/ncar_ens_storm_patches_2016050300_mem_04.nc 650\n",
      "/glade/work/dgagne/ncar_ens_storm_patches/ncar_ens_storm_patches_2016050300_mem_03.nc 760\n",
      "/glade/work/dgagne/ncar_ens_storm_patches/ncar_ens_storm_patches_2016050300_mem_02.nc 950\n",
      "/glade/work/dgagne/ncar_ens_storm_patches/ncar_ens_storm_patches_2016050300_mem_06.nc 835\n",
      "/glade/work/dgagne/ncar_ens_storm_patches/ncar_ens_storm_patches_2016050300_mem_05.nc 605\n",
      "/glade/work/dgagne/ncar_ens_storm_patches/ncar_ens_storm_patches_2016050300_mem_07.nc 760\n",
      "/glade/work/dgagne/ncar_ens_storm_patches/ncar_ens_storm_patches_2016050300_mem_08.nc 805\n",
      "/glade/work/dgagne/ncar_ens_storm_patches/ncar_ens_storm_patches_2016050300_mem_10.nc 700\n",
      "/glade/work/dgagne/ncar_ens_storm_patches/ncar_ens_storm_patches_2016050400_mem_02.nc 325\n",
      "/glade/work/dgagne/ncar_ens_storm_patches/ncar_ens_storm_patches_2016050300_mem_09.nc 900\n",
      "/glade/work/dgagne/ncar_ens_storm_patches/ncar_ens_storm_patches_2016050400_mem_01.nc 460\n",
      "/glade/work/dgagne/ncar_ens_storm_patches/ncar_ens_storm_patches_2016050400_mem_03.nc 335\n",
      "/glade/work/dgagne/ncar_ens_storm_patches/ncar_ens_storm_patches_2016050400_mem_04.nc 395\n",
      "/glade/work/dgagne/ncar_ens_storm_patches/ncar_ens_storm_patches_2016050400_mem_05.nc 435\n",
      "/glade/work/dgagne/ncar_ens_storm_patches/ncar_ens_storm_patches_2016050400_mem_06.nc 410\n",
      "/glade/work/dgagne/ncar_ens_storm_patches/ncar_ens_storm_patches_2016050400_mem_07.nc 510\n",
      "/glade/work/dgagne/ncar_ens_storm_patches/ncar_ens_storm_patches_2016050400_mem_08.nc 330\n",
      "/glade/work/dgagne/ncar_ens_storm_patches/ncar_ens_storm_patches_2016050400_mem_10.nc 335\n",
      "/glade/work/dgagne/ncar_ens_storm_patches/ncar_ens_storm_patches_2016050500_mem_01.nc 255\n",
      "/glade/work/dgagne/ncar_ens_storm_patches/ncar_ens_storm_patches_2016050400_mem_09.nc 375\n",
      "/glade/work/dgagne/ncar_ens_storm_patches/ncar_ens_storm_patches_2016050500_mem_02.nc 345\n",
      "/glade/work/dgagne/ncar_ens_storm_patches/ncar_ens_storm_patches_2016050500_mem_05.nc 340\n",
      "/glade/work/dgagne/ncar_ens_storm_patches/ncar_ens_storm_patches_2016050500_mem_03.nc 455\n",
      "/glade/work/dgagne/ncar_ens_storm_patches/ncar_ens_storm_patches_2016050500_mem_04.nc 425\n",
      "/glade/work/dgagne/ncar_ens_storm_patches/ncar_ens_storm_patches_2016050500_mem_07.nc 315\n",
      "/glade/work/dgagne/ncar_ens_storm_patches/ncar_ens_storm_patches_2016050500_mem_06.nc 420\n",
      "/glade/work/dgagne/ncar_ens_storm_patches/ncar_ens_storm_patches_2016050500_mem_08.nc 320\n",
      "/glade/work/dgagne/ncar_ens_storm_patches/ncar_ens_storm_patches_2016050500_mem_09.nc 360\n",
      "/glade/work/dgagne/ncar_ens_storm_patches/ncar_ens_storm_patches_2016050500_mem_10.nc 360\n",
      "/glade/work/dgagne/ncar_ens_storm_patches/ncar_ens_storm_patches_2016050600_mem_01.nc 935\n",
      "/glade/work/dgagne/ncar_ens_storm_patches/ncar_ens_storm_patches_2016050600_mem_02.nc 925\n",
      "/glade/work/dgagne/ncar_ens_storm_patches/ncar_ens_storm_patches_2016050600_mem_03.nc 1045\n",
      "/glade/work/dgagne/ncar_ens_storm_patches/ncar_ens_storm_patches_2016050600_mem_04.nc 865\n",
      "/glade/work/dgagne/ncar_ens_storm_patches/ncar_ens_storm_patches_2016050600_mem_05.nc 615\n",
      "/glade/work/dgagne/ncar_ens_storm_patches/ncar_ens_storm_patches_2016050600_mem_09.nc 775\n",
      "/glade/work/dgagne/ncar_ens_storm_patches/ncar_ens_storm_patches_2016050600_mem_07.nc 755\n",
      "/glade/work/dgagne/ncar_ens_storm_patches/ncar_ens_storm_patches_2016050600_mem_06.nc 900\n",
      "/glade/work/dgagne/ncar_ens_storm_patches/ncar_ens_storm_patches_2016050700_mem_01.nc 850\n",
      "/glade/work/dgagne/ncar_ens_storm_patches/ncar_ens_storm_patches_2016050700_mem_02.nc 720\n",
      "/glade/work/dgagne/ncar_ens_storm_patches/ncar_ens_storm_patches_2016050600_mem_08.nc 1225\n",
      "/glade/work/dgagne/ncar_ens_storm_patches/ncar_ens_storm_patches_2016050600_mem_10.nc 990\n",
      "/glade/work/dgagne/ncar_ens_storm_patches/ncar_ens_storm_patches_2016050700_mem_04.nc 700\n",
      "/glade/work/dgagne/ncar_ens_storm_patches/ncar_ens_storm_patches_2016050700_mem_05.nc 705\n",
      "/glade/work/dgagne/ncar_ens_storm_patches/ncar_ens_storm_patches_2016050700_mem_06.nc 845\n",
      "/glade/work/dgagne/ncar_ens_storm_patches/ncar_ens_storm_patches_2016050700_mem_03.nc 1110\n",
      "/glade/work/dgagne/ncar_ens_storm_patches/ncar_ens_storm_patches_2016050700_mem_07.nc 565\n",
      "/glade/work/dgagne/ncar_ens_storm_patches/ncar_ens_storm_patches_2016050700_mem_08.nc 770\n",
      "/glade/work/dgagne/ncar_ens_storm_patches/ncar_ens_storm_patches_2016050700_mem_10.nc 655\n",
      "/glade/work/dgagne/ncar_ens_storm_patches/ncar_ens_storm_patches_2016050700_mem_09.nc 865\n",
      "/glade/work/dgagne/ncar_ens_storm_patches/ncar_ens_storm_patches_2016050800_mem_04.nc 1065\n",
      "/glade/work/dgagne/ncar_ens_storm_patches/ncar_ens_storm_patches_2016050800_mem_01.nc 1300\n",
      "/glade/work/dgagne/ncar_ens_storm_patches/ncar_ens_storm_patches_2016050800_mem_03.nc 1330\n",
      "/glade/work/dgagne/ncar_ens_storm_patches/ncar_ens_storm_patches_2016050800_mem_02.nc 1135\n",
      "/glade/work/dgagne/ncar_ens_storm_patches/ncar_ens_storm_patches_2016050800_mem_05.nc 1345\n",
      "/glade/work/dgagne/ncar_ens_storm_patches/ncar_ens_storm_patches_2016050800_mem_07.nc 985\n",
      "/glade/work/dgagne/ncar_ens_storm_patches/ncar_ens_storm_patches_2016050800_mem_06.nc 1220\n",
      "/glade/work/dgagne/ncar_ens_storm_patches/ncar_ens_storm_patches_2016050800_mem_08.nc 1205\n",
      "/glade/work/dgagne/ncar_ens_storm_patches/ncar_ens_storm_patches_2016050800_mem_10.nc 1005\n",
      "/glade/work/dgagne/ncar_ens_storm_patches/ncar_ens_storm_patches_2016050800_mem_09.nc 1155\n",
      "/glade/work/dgagne/ncar_ens_storm_patches/ncar_ens_storm_patches_2016050900_mem_02.nc 2145\n",
      "/glade/work/dgagne/ncar_ens_storm_patches/ncar_ens_storm_patches_2016050900_mem_01.nc 1935\n",
      "/glade/work/dgagne/ncar_ens_storm_patches/ncar_ens_storm_patches_2016050900_mem_04.nc 1980\n",
      "/glade/work/dgagne/ncar_ens_storm_patches/ncar_ens_storm_patches_2016050900_mem_03.nc 2130\n",
      "/glade/work/dgagne/ncar_ens_storm_patches/ncar_ens_storm_patches_2016050900_mem_05.nc 1865\n",
      "/glade/work/dgagne/ncar_ens_storm_patches/ncar_ens_storm_patches_2016050900_mem_06.nc 2055\n",
      "/glade/work/dgagne/ncar_ens_storm_patches/ncar_ens_storm_patches_2016050900_mem_08.nc 2140\n",
      "/glade/work/dgagne/ncar_ens_storm_patches/ncar_ens_storm_patches_2016050900_mem_07.nc 2135\n",
      "/glade/work/dgagne/ncar_ens_storm_patches/ncar_ens_storm_patches_2016050900_mem_09.nc 2130\n",
      "/glade/work/dgagne/ncar_ens_storm_patches/ncar_ens_storm_patches_2016050900_mem_10.nc 2360\n",
      "/glade/work/dgagne/ncar_ens_storm_patches/ncar_ens_storm_patches_2016051000_mem_01.nc 2010\n",
      "/glade/work/dgagne/ncar_ens_storm_patches/ncar_ens_storm_patches_2016051000_mem_02.nc 2210\n",
      "/glade/work/dgagne/ncar_ens_storm_patches/ncar_ens_storm_patches_2016051000_mem_03.nc 2085\n",
      "/glade/work/dgagne/ncar_ens_storm_patches/ncar_ens_storm_patches_2016051000_mem_04.nc 1675\n",
      "/glade/work/dgagne/ncar_ens_storm_patches/ncar_ens_storm_patches_2016051000_mem_06.nc 2075\n",
      "/glade/work/dgagne/ncar_ens_storm_patches/ncar_ens_storm_patches_2016051000_mem_05.nc 1735\n",
      "/glade/work/dgagne/ncar_ens_storm_patches/ncar_ens_storm_patches_2016051000_mem_07.nc 1810\n",
      "/glade/work/dgagne/ncar_ens_storm_patches/ncar_ens_storm_patches_2016051000_mem_08.nc 1865\n",
      "/glade/work/dgagne/ncar_ens_storm_patches/ncar_ens_storm_patches_2016051000_mem_10.nc 1795\n",
      "/glade/work/dgagne/ncar_ens_storm_patches/ncar_ens_storm_patches_2016051000_mem_09.nc 1675\n",
      "/glade/work/dgagne/ncar_ens_storm_patches/ncar_ens_storm_patches_2016051100_mem_01.nc 3010\n",
      "/glade/work/dgagne/ncar_ens_storm_patches/ncar_ens_storm_patches_2016051100_mem_02.nc 3020\n",
      "/glade/work/dgagne/ncar_ens_storm_patches/ncar_ens_storm_patches_2016051100_mem_04.nc 2865\n",
      "/glade/work/dgagne/ncar_ens_storm_patches/ncar_ens_storm_patches_2016051100_mem_03.nc 3065\n",
      "/glade/work/dgagne/ncar_ens_storm_patches/ncar_ens_storm_patches_2016051100_mem_05.nc 3100\n",
      "/glade/work/dgagne/ncar_ens_storm_patches/ncar_ens_storm_patches_2016051100_mem_08.nc 3290\n",
      "/glade/work/dgagne/ncar_ens_storm_patches/ncar_ens_storm_patches_2016051100_mem_06.nc 3225\n",
      "/glade/work/dgagne/ncar_ens_storm_patches/ncar_ens_storm_patches_2016051100_mem_07.nc 3105\n",
      "/glade/work/dgagne/ncar_ens_storm_patches/ncar_ens_storm_patches_2016051200_mem_01.nc 1015\n",
      "/glade/work/dgagne/ncar_ens_storm_patches/ncar_ens_storm_patches_2016051100_mem_09.nc 3275\n",
      "/glade/work/dgagne/ncar_ens_storm_patches/ncar_ens_storm_patches_2016051200_mem_02.nc 1270\n",
      "/glade/work/dgagne/ncar_ens_storm_patches/ncar_ens_storm_patches_2016051100_mem_10.nc 3470\n",
      "/glade/work/dgagne/ncar_ens_storm_patches/ncar_ens_storm_patches_2016051200_mem_03.nc 1025\n",
      "/glade/work/dgagne/ncar_ens_storm_patches/ncar_ens_storm_patches_2016051200_mem_05.nc 1305\n",
      "/glade/work/dgagne/ncar_ens_storm_patches/ncar_ens_storm_patches_2016051200_mem_04.nc 1355\n",
      "/glade/work/dgagne/ncar_ens_storm_patches/ncar_ens_storm_patches_2016051200_mem_06.nc 1260\n",
      "/glade/work/dgagne/ncar_ens_storm_patches/ncar_ens_storm_patches_2016051200_mem_07.nc 1265\n",
      "/glade/work/dgagne/ncar_ens_storm_patches/ncar_ens_storm_patches_2016051200_mem_09.nc 1185\n",
      "/glade/work/dgagne/ncar_ens_storm_patches/ncar_ens_storm_patches_2016051200_mem_08.nc 1270\n",
      "/glade/work/dgagne/ncar_ens_storm_patches/ncar_ens_storm_patches_2016051300_mem_01.nc 1020\n",
      "/glade/work/dgagne/ncar_ens_storm_patches/ncar_ens_storm_patches_2016051200_mem_10.nc 1470\n",
      "/glade/work/dgagne/ncar_ens_storm_patches/ncar_ens_storm_patches_2016051300_mem_03.nc 995\n",
      "/glade/work/dgagne/ncar_ens_storm_patches/ncar_ens_storm_patches_2016051300_mem_02.nc 1140\n",
      "/glade/work/dgagne/ncar_ens_storm_patches/ncar_ens_storm_patches_2016051300_mem_04.nc 825\n",
      "/glade/work/dgagne/ncar_ens_storm_patches/ncar_ens_storm_patches_2016051300_mem_05.nc 1025\n",
      "/glade/work/dgagne/ncar_ens_storm_patches/ncar_ens_storm_patches_2016051300_mem_07.nc 1000\n",
      "/glade/work/dgagne/ncar_ens_storm_patches/ncar_ens_storm_patches_2016051300_mem_06.nc 1110\n",
      "/glade/work/dgagne/ncar_ens_storm_patches/ncar_ens_storm_patches_2016051300_mem_08.nc 1335\n",
      "/glade/work/dgagne/ncar_ens_storm_patches/ncar_ens_storm_patches_2016051300_mem_09.nc 1290\n",
      "/glade/work/dgagne/ncar_ens_storm_patches/ncar_ens_storm_patches_2016051400_mem_02.nc 450\n",
      "/glade/work/dgagne/ncar_ens_storm_patches/ncar_ens_storm_patches_2016051400_mem_01.nc 765\n",
      "/glade/work/dgagne/ncar_ens_storm_patches/ncar_ens_storm_patches_2016051300_mem_10.nc 1065\n",
      "/glade/work/dgagne/ncar_ens_storm_patches/ncar_ens_storm_patches_2016051400_mem_03.nc 570\n",
      "/glade/work/dgagne/ncar_ens_storm_patches/ncar_ens_storm_patches_2016051400_mem_06.nc 650\n",
      "/glade/work/dgagne/ncar_ens_storm_patches/ncar_ens_storm_patches_2016051400_mem_05.nc 390\n",
      "/glade/work/dgagne/ncar_ens_storm_patches/ncar_ens_storm_patches_2016051400_mem_07.nc 435\n",
      "/glade/work/dgagne/ncar_ens_storm_patches/ncar_ens_storm_patches_2016051400_mem_09.nc 505\n",
      "/glade/work/dgagne/ncar_ens_storm_patches/ncar_ens_storm_patches_2016051400_mem_08.nc 785\n",
      "/glade/work/dgagne/ncar_ens_storm_patches/ncar_ens_storm_patches_2016051400_mem_04.nc 700\n",
      "/glade/work/dgagne/ncar_ens_storm_patches/ncar_ens_storm_patches_2016051400_mem_10.nc 545\n",
      "/glade/work/dgagne/ncar_ens_storm_patches/ncar_ens_storm_patches_2016051500_mem_01.nc 690\n",
      "/glade/work/dgagne/ncar_ens_storm_patches/ncar_ens_storm_patches_2016051500_mem_03.nc 495\n",
      "/glade/work/dgagne/ncar_ens_storm_patches/ncar_ens_storm_patches_2016051500_mem_04.nc 675\n",
      "/glade/work/dgagne/ncar_ens_storm_patches/ncar_ens_storm_patches_2016051500_mem_02.nc 605\n",
      "/glade/work/dgagne/ncar_ens_storm_patches/ncar_ens_storm_patches_2016051500_mem_05.nc 755\n",
      "/glade/work/dgagne/ncar_ens_storm_patches/ncar_ens_storm_patches_2016051500_mem_06.nc 785\n",
      "/glade/work/dgagne/ncar_ens_storm_patches/ncar_ens_storm_patches_2016051500_mem_09.nc 610\n",
      "/glade/work/dgagne/ncar_ens_storm_patches/ncar_ens_storm_patches_2016051500_mem_08.nc 710\n",
      "/glade/work/dgagne/ncar_ens_storm_patches/ncar_ens_storm_patches_2016051500_mem_07.nc 960\n",
      "/glade/work/dgagne/ncar_ens_storm_patches/ncar_ens_storm_patches_2016051500_mem_10.nc 875\n",
      "/glade/work/dgagne/ncar_ens_storm_patches/ncar_ens_storm_patches_2016051600_mem_01.nc 1000\n",
      "/glade/work/dgagne/ncar_ens_storm_patches/ncar_ens_storm_patches_2016051600_mem_02.nc 1305\n",
      "/glade/work/dgagne/ncar_ens_storm_patches/ncar_ens_storm_patches_2016051600_mem_04.nc 1200\n",
      "/glade/work/dgagne/ncar_ens_storm_patches/ncar_ens_storm_patches_2016051600_mem_05.nc 1035\n",
      "/glade/work/dgagne/ncar_ens_storm_patches/ncar_ens_storm_patches_2016051600_mem_03.nc 1365\n",
      "/glade/work/dgagne/ncar_ens_storm_patches/ncar_ens_storm_patches_2016051600_mem_06.nc 1285\n",
      "/glade/work/dgagne/ncar_ens_storm_patches/ncar_ens_storm_patches_2016051600_mem_09.nc 825\n",
      "/glade/work/dgagne/ncar_ens_storm_patches/ncar_ens_storm_patches_2016051600_mem_07.nc 870\n",
      "/glade/work/dgagne/ncar_ens_storm_patches/ncar_ens_storm_patches_2016051600_mem_08.nc 1320\n",
      "/glade/work/dgagne/ncar_ens_storm_patches/ncar_ens_storm_patches_2016051600_mem_10.nc 1615\n",
      "/glade/work/dgagne/ncar_ens_storm_patches/ncar_ens_storm_patches_2016051700_mem_01.nc 1915\n",
      "/glade/work/dgagne/ncar_ens_storm_patches/ncar_ens_storm_patches_2016051700_mem_02.nc 1625\n",
      "/glade/work/dgagne/ncar_ens_storm_patches/ncar_ens_storm_patches_2016051700_mem_03.nc 1675\n",
      "/glade/work/dgagne/ncar_ens_storm_patches/ncar_ens_storm_patches_2016051700_mem_04.nc 1775\n",
      "/glade/work/dgagne/ncar_ens_storm_patches/ncar_ens_storm_patches_2016051700_mem_06.nc 1475\n",
      "/glade/work/dgagne/ncar_ens_storm_patches/ncar_ens_storm_patches_2016051700_mem_05.nc 1935\n",
      "/glade/work/dgagne/ncar_ens_storm_patches/ncar_ens_storm_patches_2016051700_mem_07.nc 1805\n",
      "/glade/work/dgagne/ncar_ens_storm_patches/ncar_ens_storm_patches_2016051700_mem_08.nc 1575\n",
      "/glade/work/dgagne/ncar_ens_storm_patches/ncar_ens_storm_patches_2016051700_mem_09.nc 1390\n",
      "/glade/work/dgagne/ncar_ens_storm_patches/ncar_ens_storm_patches_2016051700_mem_10.nc 1720\n",
      "/glade/work/dgagne/ncar_ens_storm_patches/ncar_ens_storm_patches_2016051800_mem_02.nc 735\n",
      "/glade/work/dgagne/ncar_ens_storm_patches/ncar_ens_storm_patches_2016051800_mem_01.nc 900\n",
      "/glade/work/dgagne/ncar_ens_storm_patches/ncar_ens_storm_patches_2016051800_mem_04.nc 615\n",
      "/glade/work/dgagne/ncar_ens_storm_patches/ncar_ens_storm_patches_2016051800_mem_03.nc 1370\n",
      "/glade/work/dgagne/ncar_ens_storm_patches/ncar_ens_storm_patches_2016051800_mem_06.nc 620\n",
      "/glade/work/dgagne/ncar_ens_storm_patches/ncar_ens_storm_patches_2016051800_mem_05.nc 905\n",
      "/glade/work/dgagne/ncar_ens_storm_patches/ncar_ens_storm_patches_2016051800_mem_08.nc 780\n",
      "/glade/work/dgagne/ncar_ens_storm_patches/ncar_ens_storm_patches_2016051800_mem_09.nc 720\n",
      "/glade/work/dgagne/ncar_ens_storm_patches/ncar_ens_storm_patches_2016051800_mem_10.nc 685\n",
      "/glade/work/dgagne/ncar_ens_storm_patches/ncar_ens_storm_patches_2016051800_mem_07.nc 835\n",
      "/glade/work/dgagne/ncar_ens_storm_patches/ncar_ens_storm_patches_2016051900_mem_02.nc 1600\n",
      "/glade/work/dgagne/ncar_ens_storm_patches/ncar_ens_storm_patches_2016051900_mem_04.nc 1675\n",
      "/glade/work/dgagne/ncar_ens_storm_patches/ncar_ens_storm_patches_2016051900_mem_01.nc 1705\n",
      "/glade/work/dgagne/ncar_ens_storm_patches/ncar_ens_storm_patches_2016051900_mem_03.nc 2405\n",
      "/glade/work/dgagne/ncar_ens_storm_patches/ncar_ens_storm_patches_2016051900_mem_05.nc 2555\n",
      "/glade/work/dgagne/ncar_ens_storm_patches/ncar_ens_storm_patches_2016051900_mem_08.nc 1520\n",
      "/glade/work/dgagne/ncar_ens_storm_patches/ncar_ens_storm_patches_2016051900_mem_07.nc 1255\n",
      "/glade/work/dgagne/ncar_ens_storm_patches/ncar_ens_storm_patches_2016051900_mem_06.nc 1850\n",
      "/glade/work/dgagne/ncar_ens_storm_patches/ncar_ens_storm_patches_2016052000_mem_01.nc 860\n",
      "/glade/work/dgagne/ncar_ens_storm_patches/ncar_ens_storm_patches_2016051900_mem_09.nc 2185\n",
      "/glade/work/dgagne/ncar_ens_storm_patches/ncar_ens_storm_patches_2016052000_mem_02.nc 1820\n",
      "/glade/work/dgagne/ncar_ens_storm_patches/ncar_ens_storm_patches_2016051900_mem_10.nc 2220\n",
      "/glade/work/dgagne/ncar_ens_storm_patches/ncar_ens_storm_patches_2016052000_mem_03.nc 1205\n",
      "/glade/work/dgagne/ncar_ens_storm_patches/ncar_ens_storm_patches_2016052000_mem_04.nc 1000\n",
      "/glade/work/dgagne/ncar_ens_storm_patches/ncar_ens_storm_patches_2016052000_mem_05.nc 1140\n",
      "/glade/work/dgagne/ncar_ens_storm_patches/ncar_ens_storm_patches_2016052000_mem_09.nc 1195\n",
      "/glade/work/dgagne/ncar_ens_storm_patches/ncar_ens_storm_patches_2016052000_mem_08.nc 1150\n",
      "/glade/work/dgagne/ncar_ens_storm_patches/ncar_ens_storm_patches_2016052000_mem_06.nc 1225\n",
      "/glade/work/dgagne/ncar_ens_storm_patches/ncar_ens_storm_patches_2016052000_mem_07.nc 1215\n",
      "/glade/work/dgagne/ncar_ens_storm_patches/ncar_ens_storm_patches_2016052000_mem_10.nc 1165\n",
      "/glade/work/dgagne/ncar_ens_storm_patches/ncar_ens_storm_patches_2016052100_mem_01.nc 985\n",
      "/glade/work/dgagne/ncar_ens_storm_patches/ncar_ens_storm_patches_2016052100_mem_04.nc 945\n",
      "/glade/work/dgagne/ncar_ens_storm_patches/ncar_ens_storm_patches_2016052100_mem_03.nc 1400\n",
      "/glade/work/dgagne/ncar_ens_storm_patches/ncar_ens_storm_patches_2016052100_mem_02.nc 1830\n",
      "/glade/work/dgagne/ncar_ens_storm_patches/ncar_ens_storm_patches_2016052100_mem_05.nc 1500\n",
      "/glade/work/dgagne/ncar_ens_storm_patches/ncar_ens_storm_patches_2016052100_mem_06.nc 1035\n",
      "/glade/work/dgagne/ncar_ens_storm_patches/ncar_ens_storm_patches_2016052100_mem_07.nc 1540\n",
      "/glade/work/dgagne/ncar_ens_storm_patches/ncar_ens_storm_patches_2016052100_mem_08.nc 1365\n",
      "/glade/work/dgagne/ncar_ens_storm_patches/ncar_ens_storm_patches_2016052100_mem_10.nc 1770\n",
      "/glade/work/dgagne/ncar_ens_storm_patches/ncar_ens_storm_patches_2016052100_mem_09.nc 1685\n",
      "/glade/work/dgagne/ncar_ens_storm_patches/ncar_ens_storm_patches_2016052200_mem_02.nc 2170\n",
      "/glade/work/dgagne/ncar_ens_storm_patches/ncar_ens_storm_patches_2016052200_mem_01.nc 1985\n",
      "/glade/work/dgagne/ncar_ens_storm_patches/ncar_ens_storm_patches_2016052200_mem_03.nc 2220\n",
      "/glade/work/dgagne/ncar_ens_storm_patches/ncar_ens_storm_patches_2016052200_mem_04.nc 2065\n",
      "/glade/work/dgagne/ncar_ens_storm_patches/ncar_ens_storm_patches_2016052200_mem_05.nc 2160\n",
      "/glade/work/dgagne/ncar_ens_storm_patches/ncar_ens_storm_patches_2016052200_mem_06.nc 2530\n",
      "/glade/work/dgagne/ncar_ens_storm_patches/ncar_ens_storm_patches_2016052200_mem_09.nc 1870\n",
      "/glade/work/dgagne/ncar_ens_storm_patches/ncar_ens_storm_patches_2016052200_mem_07.nc 2415\n",
      "/glade/work/dgagne/ncar_ens_storm_patches/ncar_ens_storm_patches_2016052200_mem_08.nc 2270\n",
      "/glade/work/dgagne/ncar_ens_storm_patches/ncar_ens_storm_patches_2016052200_mem_10.nc 2415\n",
      "/glade/work/dgagne/ncar_ens_storm_patches/ncar_ens_storm_patches_2016052300_mem_01.nc 2445\n",
      "/glade/work/dgagne/ncar_ens_storm_patches/ncar_ens_storm_patches_2016052300_mem_03.nc 2375\n",
      "/glade/work/dgagne/ncar_ens_storm_patches/ncar_ens_storm_patches_2016052300_mem_02.nc 3000\n",
      "/glade/work/dgagne/ncar_ens_storm_patches/ncar_ens_storm_patches_2016052300_mem_04.nc 2735\n",
      "/glade/work/dgagne/ncar_ens_storm_patches/ncar_ens_storm_patches_2016052300_mem_05.nc 3075\n",
      "/glade/work/dgagne/ncar_ens_storm_patches/ncar_ens_storm_patches_2016052300_mem_07.nc 2140\n",
      "/glade/work/dgagne/ncar_ens_storm_patches/ncar_ens_storm_patches_2016052300_mem_06.nc 2985\n",
      "/glade/work/dgagne/ncar_ens_storm_patches/ncar_ens_storm_patches_2016052300_mem_08.nc 2870\n",
      "/glade/work/dgagne/ncar_ens_storm_patches/ncar_ens_storm_patches_2016052300_mem_10.nc 2765\n",
      "/glade/work/dgagne/ncar_ens_storm_patches/ncar_ens_storm_patches_2016052300_mem_09.nc 2950\n",
      "/glade/work/dgagne/ncar_ens_storm_patches/ncar_ens_storm_patches_2016052400_mem_01.nc 2245\n",
      "/glade/work/dgagne/ncar_ens_storm_patches/ncar_ens_storm_patches_2016052400_mem_02.nc 2810\n",
      "/glade/work/dgagne/ncar_ens_storm_patches/ncar_ens_storm_patches_2016052400_mem_03.nc 3115\n",
      "/glade/work/dgagne/ncar_ens_storm_patches/ncar_ens_storm_patches_2016052400_mem_04.nc 2885\n",
      "/glade/work/dgagne/ncar_ens_storm_patches/ncar_ens_storm_patches_2016052400_mem_05.nc 2785\n",
      "/glade/work/dgagne/ncar_ens_storm_patches/ncar_ens_storm_patches_2016052400_mem_06.nc 3030\n",
      "/glade/work/dgagne/ncar_ens_storm_patches/ncar_ens_storm_patches_2016052400_mem_08.nc 3505\n",
      "/glade/work/dgagne/ncar_ens_storm_patches/ncar_ens_storm_patches_2016052400_mem_07.nc 3710\n",
      "/glade/work/dgagne/ncar_ens_storm_patches/ncar_ens_storm_patches_2016052400_mem_09.nc 2565\n",
      "/glade/work/dgagne/ncar_ens_storm_patches/ncar_ens_storm_patches_2016052500_mem_01.nc 2360\n",
      "/glade/work/dgagne/ncar_ens_storm_patches/ncar_ens_storm_patches_2016052400_mem_10.nc 2785\n",
      "/glade/work/dgagne/ncar_ens_storm_patches/ncar_ens_storm_patches_2016052500_mem_02.nc 1885\n",
      "/glade/work/dgagne/ncar_ens_storm_patches/ncar_ens_storm_patches_2016052500_mem_03.nc 2100\n",
      "/glade/work/dgagne/ncar_ens_storm_patches/ncar_ens_storm_patches_2016052500_mem_04.nc 2590\n",
      "/glade/work/dgagne/ncar_ens_storm_patches/ncar_ens_storm_patches_2016052500_mem_06.nc 2510\n",
      "/glade/work/dgagne/ncar_ens_storm_patches/ncar_ens_storm_patches_2016052500_mem_05.nc 2710\n",
      "/glade/work/dgagne/ncar_ens_storm_patches/ncar_ens_storm_patches_2016052500_mem_07.nc 2650\n",
      "/glade/work/dgagne/ncar_ens_storm_patches/ncar_ens_storm_patches_2016052500_mem_08.nc 2620\n",
      "/glade/work/dgagne/ncar_ens_storm_patches/ncar_ens_storm_patches_2016052500_mem_09.nc 2855\n",
      "/glade/work/dgagne/ncar_ens_storm_patches/ncar_ens_storm_patches_2016052500_mem_10.nc 2565\n",
      "/glade/work/dgagne/ncar_ens_storm_patches/ncar_ens_storm_patches_2016052600_mem_01.nc 4600\n",
      "/glade/work/dgagne/ncar_ens_storm_patches/ncar_ens_storm_patches_2016052600_mem_02.nc 4965\n",
      "/glade/work/dgagne/ncar_ens_storm_patches/ncar_ens_storm_patches_2016052600_mem_04.nc 5010\n",
      "/glade/work/dgagne/ncar_ens_storm_patches/ncar_ens_storm_patches_2016052600_mem_03.nc 4900\n",
      "/glade/work/dgagne/ncar_ens_storm_patches/ncar_ens_storm_patches_2016052600_mem_05.nc 4965\n",
      "/glade/work/dgagne/ncar_ens_storm_patches/ncar_ens_storm_patches_2016052600_mem_06.nc 4280\n",
      "/glade/work/dgagne/ncar_ens_storm_patches/ncar_ens_storm_patches_2016052600_mem_08.nc 5585\n",
      "/glade/work/dgagne/ncar_ens_storm_patches/ncar_ens_storm_patches_2016052600_mem_07.nc 5115\n",
      "/glade/work/dgagne/ncar_ens_storm_patches/ncar_ens_storm_patches_2016052600_mem_09.nc 4695\n",
      "/glade/work/dgagne/ncar_ens_storm_patches/ncar_ens_storm_patches_2016052700_mem_01.nc 2870\n",
      "/glade/work/dgagne/ncar_ens_storm_patches/ncar_ens_storm_patches_2016052600_mem_10.nc 5240\n",
      "/glade/work/dgagne/ncar_ens_storm_patches/ncar_ens_storm_patches_2016052700_mem_02.nc 3020\n",
      "/glade/work/dgagne/ncar_ens_storm_patches/ncar_ens_storm_patches_2016052700_mem_03.nc 2655\n",
      "/glade/work/dgagne/ncar_ens_storm_patches/ncar_ens_storm_patches_2016052700_mem_05.nc 2690\n",
      "/glade/work/dgagne/ncar_ens_storm_patches/ncar_ens_storm_patches_2016052700_mem_04.nc 2800\n",
      "/glade/work/dgagne/ncar_ens_storm_patches/ncar_ens_storm_patches_2016052700_mem_06.nc 3230\n",
      "/glade/work/dgagne/ncar_ens_storm_patches/ncar_ens_storm_patches_2016052700_mem_07.nc 3125\n",
      "/glade/work/dgagne/ncar_ens_storm_patches/ncar_ens_storm_patches_2016052700_mem_08.nc 2940\n",
      "/glade/work/dgagne/ncar_ens_storm_patches/ncar_ens_storm_patches_2016052700_mem_10.nc 2590\n",
      "/glade/work/dgagne/ncar_ens_storm_patches/ncar_ens_storm_patches_2016052700_mem_09.nc 2925\n",
      "/glade/work/dgagne/ncar_ens_storm_patches/ncar_ens_storm_patches_2016052800_mem_01.nc 2125\n",
      "/glade/work/dgagne/ncar_ens_storm_patches/ncar_ens_storm_patches_2016052800_mem_02.nc 1735\n",
      "/glade/work/dgagne/ncar_ens_storm_patches/ncar_ens_storm_patches_2016052800_mem_04.nc 1700\n",
      "/glade/work/dgagne/ncar_ens_storm_patches/ncar_ens_storm_patches_2016052800_mem_03.nc 1880\n",
      "/glade/work/dgagne/ncar_ens_storm_patches/ncar_ens_storm_patches_2016052800_mem_05.nc 1825\n",
      "/glade/work/dgagne/ncar_ens_storm_patches/ncar_ens_storm_patches_2016052800_mem_07.nc 1355\n",
      "/glade/work/dgagne/ncar_ens_storm_patches/ncar_ens_storm_patches_2016052800_mem_06.nc 2105\n",
      "/glade/work/dgagne/ncar_ens_storm_patches/ncar_ens_storm_patches_2016052800_mem_08.nc 1720\n",
      "/glade/work/dgagne/ncar_ens_storm_patches/ncar_ens_storm_patches_2016052800_mem_09.nc 1385\n",
      "/glade/work/dgagne/ncar_ens_storm_patches/ncar_ens_storm_patches_2016052800_mem_10.nc 1810\n",
      "/glade/work/dgagne/ncar_ens_storm_patches/ncar_ens_storm_patches_2016052900_mem_01.nc 2630\n",
      "/glade/work/dgagne/ncar_ens_storm_patches/ncar_ens_storm_patches_2016052900_mem_02.nc 2715\n",
      "/glade/work/dgagne/ncar_ens_storm_patches/ncar_ens_storm_patches_2016052900_mem_03.nc 2410\n",
      "/glade/work/dgagne/ncar_ens_storm_patches/ncar_ens_storm_patches_2016052900_mem_04.nc 2505\n",
      "/glade/work/dgagne/ncar_ens_storm_patches/ncar_ens_storm_patches_2016052900_mem_05.nc 2495\n",
      "/glade/work/dgagne/ncar_ens_storm_patches/ncar_ens_storm_patches_2016052900_mem_06.nc 3055\n",
      "/glade/work/dgagne/ncar_ens_storm_patches/ncar_ens_storm_patches_2016052900_mem_07.nc 2655\n",
      "/glade/work/dgagne/ncar_ens_storm_patches/ncar_ens_storm_patches_2016052900_mem_08.nc 3060\n",
      "/glade/work/dgagne/ncar_ens_storm_patches/ncar_ens_storm_patches_2016052900_mem_09.nc 2625\n",
      "/glade/work/dgagne/ncar_ens_storm_patches/ncar_ens_storm_patches_2016053000_mem_02.nc 3165\n",
      "/glade/work/dgagne/ncar_ens_storm_patches/ncar_ens_storm_patches_2016052900_mem_10.nc 3305\n",
      "/glade/work/dgagne/ncar_ens_storm_patches/ncar_ens_storm_patches_2016053000_mem_01.nc 3460\n",
      "/glade/work/dgagne/ncar_ens_storm_patches/ncar_ens_storm_patches_2016053000_mem_05.nc 3305\n",
      "/glade/work/dgagne/ncar_ens_storm_patches/ncar_ens_storm_patches_2016053000_mem_03.nc 3430\n",
      "/glade/work/dgagne/ncar_ens_storm_patches/ncar_ens_storm_patches_2016053000_mem_04.nc 2895\n",
      "/glade/work/dgagne/ncar_ens_storm_patches/ncar_ens_storm_patches_2016053000_mem_06.nc 3160\n",
      "/glade/work/dgagne/ncar_ens_storm_patches/ncar_ens_storm_patches_2016053000_mem_07.nc 3255\n",
      "/glade/work/dgagne/ncar_ens_storm_patches/ncar_ens_storm_patches_2016053000_mem_09.nc 3440\n",
      "/glade/work/dgagne/ncar_ens_storm_patches/ncar_ens_storm_patches_2016053000_mem_08.nc 3055\n",
      "/glade/work/dgagne/ncar_ens_storm_patches/ncar_ens_storm_patches_2016053000_mem_10.nc 3105\n",
      "/glade/work/dgagne/ncar_ens_storm_patches/ncar_ens_storm_patches_2016053100_mem_01.nc 2390\n",
      "/glade/work/dgagne/ncar_ens_storm_patches/ncar_ens_storm_patches_2016053100_mem_02.nc 2225\n",
      "/glade/work/dgagne/ncar_ens_storm_patches/ncar_ens_storm_patches_2016053100_mem_03.nc 2265\n",
      "/glade/work/dgagne/ncar_ens_storm_patches/ncar_ens_storm_patches_2016053100_mem_04.nc 2430\n",
      "/glade/work/dgagne/ncar_ens_storm_patches/ncar_ens_storm_patches_2016053100_mem_06.nc 2200\n",
      "/glade/work/dgagne/ncar_ens_storm_patches/ncar_ens_storm_patches_2016053100_mem_05.nc 2695\n",
      "/glade/work/dgagne/ncar_ens_storm_patches/ncar_ens_storm_patches_2016053100_mem_07.nc 2050\n",
      "/glade/work/dgagne/ncar_ens_storm_patches/ncar_ens_storm_patches_2016053100_mem_08.nc 2400\n",
      "/glade/work/dgagne/ncar_ens_storm_patches/ncar_ens_storm_patches_2016053100_mem_10.nc 2805\n",
      "/glade/work/dgagne/ncar_ens_storm_patches/ncar_ens_storm_patches_2016053100_mem_09.nc 2395\n",
      "/glade/work/dgagne/ncar_ens_storm_patches/ncar_ens_storm_patches_2016060100_mem_01.nc 2000\n",
      "/glade/work/dgagne/ncar_ens_storm_patches/ncar_ens_storm_patches_2016060100_mem_02.nc 1850\n",
      "/glade/work/dgagne/ncar_ens_storm_patches/ncar_ens_storm_patches_2016060100_mem_03.nc 1955\n",
      "/glade/work/dgagne/ncar_ens_storm_patches/ncar_ens_storm_patches_2016060100_mem_04.nc 1840\n",
      "/glade/work/dgagne/ncar_ens_storm_patches/ncar_ens_storm_patches_2016060100_mem_05.nc 1780\n",
      "/glade/work/dgagne/ncar_ens_storm_patches/ncar_ens_storm_patches_2016060100_mem_06.nc 1520\n",
      "/glade/work/dgagne/ncar_ens_storm_patches/ncar_ens_storm_patches_2016060100_mem_07.nc 1990\n",
      "/glade/work/dgagne/ncar_ens_storm_patches/ncar_ens_storm_patches_2016060100_mem_08.nc 2110\n",
      "/glade/work/dgagne/ncar_ens_storm_patches/ncar_ens_storm_patches_2016060100_mem_10.nc 1745\n",
      "/glade/work/dgagne/ncar_ens_storm_patches/ncar_ens_storm_patches_2016060100_mem_09.nc 1850\n",
      "/glade/work/dgagne/ncar_ens_storm_patches/ncar_ens_storm_patches_2016060200_mem_01.nc 1980\n",
      "/glade/work/dgagne/ncar_ens_storm_patches/ncar_ens_storm_patches_2016060200_mem_02.nc 1910\n",
      "/glade/work/dgagne/ncar_ens_storm_patches/ncar_ens_storm_patches_2016060200_mem_04.nc 2410\n",
      "/glade/work/dgagne/ncar_ens_storm_patches/ncar_ens_storm_patches_2016060200_mem_05.nc 2190\n",
      "/glade/work/dgagne/ncar_ens_storm_patches/ncar_ens_storm_patches_2016060200_mem_03.nc 2250\n",
      "/glade/work/dgagne/ncar_ens_storm_patches/ncar_ens_storm_patches_2016060200_mem_07.nc 2250\n",
      "/glade/work/dgagne/ncar_ens_storm_patches/ncar_ens_storm_patches_2016060200_mem_06.nc 1785\n",
      "/glade/work/dgagne/ncar_ens_storm_patches/ncar_ens_storm_patches_2016060200_mem_08.nc 1775\n",
      "/glade/work/dgagne/ncar_ens_storm_patches/ncar_ens_storm_patches_2016060200_mem_09.nc 1915\n",
      "/glade/work/dgagne/ncar_ens_storm_patches/ncar_ens_storm_patches_2016060200_mem_10.nc 1615\n",
      "/glade/work/dgagne/ncar_ens_storm_patches/ncar_ens_storm_patches_2016060300_mem_01.nc 1875\n",
      "/glade/work/dgagne/ncar_ens_storm_patches/ncar_ens_storm_patches_2016060300_mem_02.nc 1655\n",
      "/glade/work/dgagne/ncar_ens_storm_patches/ncar_ens_storm_patches_2016060300_mem_03.nc 1965\n",
      "/glade/work/dgagne/ncar_ens_storm_patches/ncar_ens_storm_patches_2016060300_mem_04.nc 1625\n",
      "/glade/work/dgagne/ncar_ens_storm_patches/ncar_ens_storm_patches_2016060300_mem_05.nc 1010\n",
      "/glade/work/dgagne/ncar_ens_storm_patches/ncar_ens_storm_patches_2016060300_mem_06.nc 1535\n",
      "/glade/work/dgagne/ncar_ens_storm_patches/ncar_ens_storm_patches_2016060300_mem_08.nc 1590\n",
      "/glade/work/dgagne/ncar_ens_storm_patches/ncar_ens_storm_patches_2016060300_mem_07.nc 1710\n",
      "/glade/work/dgagne/ncar_ens_storm_patches/ncar_ens_storm_patches_2016060300_mem_09.nc 1620\n",
      "/glade/work/dgagne/ncar_ens_storm_patches/ncar_ens_storm_patches_2016060300_mem_10.nc 1740\n"
     ]
    }
   ],
   "source": [
    "hail_data = load_storm_patch_data(\"/glade/work/dgagne/ncar_ens_storm_patches/\", \n",
    "                      [\"thompson_max_hail_k1_surface_current\"], 4)"
   ]
  },
  {
   "cell_type": "code",
   "execution_count": 12,
   "metadata": {},
   "outputs": [
    {
     "data": {
      "text/plain": [
       "59559"
      ]
     },
     "execution_count": 12,
     "metadata": {},
     "output_type": "execute_result"
    }
   ],
   "source": [
    "hail_data[0][:, :, :, 0].max(axis=-1).max(axis=-1).argmax()"
   ]
  },
  {
   "cell_type": "code",
   "execution_count": 50,
   "metadata": {},
   "outputs": [
    {
     "data": {
      "text/plain": [
       "<matplotlib.colorbar.Colorbar at 0x2b1347a47320>"
      ]
     },
     "execution_count": 50,
     "metadata": {},
     "output_type": "execute_result"
    },
    {
     "data": {
      "image/png": "[encoded data removed]",
      "text/plain": [
       "<Figure size 432x288 with 2 Axes>"
      ]
     },
     "metadata": {},
     "output_type": "display_data"
    }
   ],
   "source": [
    "plt.pcolormesh((hail_data[0][59559, :, :, 0] * 1000))\n",
    "plt.colorbar()"
   ]
  },
  {
   "cell_type": "code",
   "execution_count": 3,
   "metadata": {},
   "outputs": [],
   "source": [
    "hail_sizes = hail_data[0].ravel() * 1000\n",
    "hail_sizes = hail_sizes[hail_sizes > 0]"
   ]
  },
  {
   "cell_type": "code",
   "execution_count": 20,
   "metadata": {},
   "outputs": [],
   "source": [
    "max_hail = hail_data[0].max(axis=-1).max(axis=-1).max(axis=-1) * 1000"
   ]
  },
  {
   "cell_type": "code",
   "execution_count": 6,
   "metadata": {},
   "outputs": [
    {
     "data": {
      "image/png": "[encoded data removed]",
      "text/plain": [
       "<Figure size 432x288 with 1 Axes>"
      ]
     },
     "metadata": {},
     "output_type": "display_data"
    }
   ],
   "source": [
    "plt.hist(max_hail, bins=np.arange(0, 100, 5), color='purple', density=False)\n",
    "plt.gca().set_yscale(\"log\")"
   ]
  },
  {
   "cell_type": "code",
   "execution_count": 9,
   "metadata": {},
   "outputs": [
    {
     "data": {
      "text/plain": [
       "[<matplotlib.lines.Line2D at 0x2b5501902400>]"
      ]
     },
     "execution_count": 9,
     "metadata": {},
     "output_type": "execute_result"
    },
    {
     "data": {
      "image/png": "[encoded data removed]",
      "text/plain": [
       "<Figure size 432x288 with 1 Axes>"
      ]
     },
     "metadata": {},
     "output_type": "display_data"
    }
   ],
   "source": [
    "plt.plot(np.unique(max_hail), 'ko-')"
   ]
  },
  {
   "cell_type": "code",
   "execution_count": 26,
   "metadata": {},
   "outputs": [],
   "source": [
    "hail_bins = np.unique(max_hail)[1:]\n",
    "hail_bin_diffs = hail_bins[1:] - hail_bins[:-1]\n",
    "hail_counts, _ = np.histogram(max_hail, hail_bins)\n",
    "all_hail_samples = []\n",
    "for h, hail_count in enumerate(hail_counts):\n",
    "    all_hail_samples.append(np.random.uniform(hail_bins[h], hail_bins[h+1], size=hail_count))\n",
    "hail_samples_max = np.concatenate(all_hail_samples)"
   ]
  },
  {
   "cell_type": "code",
   "execution_count": 25,
   "metadata": {},
   "outputs": [],
   "source": [
    "hail_bins = np.unique(hail_sizes)[1:]\n",
    "hail_bin_diffs = hail_bins[1:] - hail_bins[:-1]\n",
    "hail_counts, _ = np.histogram(hail_sizes, hail_bins)\n",
    "all_hail_samples = []\n",
    "for h, hail_count in enumerate(hail_counts):\n",
    "    all_hail_samples.append(np.random.uniform(hail_bins[h], hail_bins[h+1], size=hail_count))\n",
    "hail_samples_all = np.concatenate(all_hail_samples)"
   ]
  },
  {
   "cell_type": "code",
   "execution_count": 19,
   "metadata": {},
   "outputs": [
    {
     "data": {
      "text/plain": [
       "(array([10802.,  9770.,  7459.,  6389.,  5100.,  3991.,  3638.,  3544.,\n",
       "         3660.,  3389.,  2937.,  1879.,   626.,   237.,    55.]),\n",
       " array([ 6, 12, 18, 24, 30, 36, 42, 48, 54, 60, 66, 72, 78, 84, 90, 96]),\n",
       " <a list of 15 Patch objects>)"
      ]
     },
     "execution_count": 19,
     "metadata": {},
     "output_type": "execute_result"
    },
    {
     "data": {
      "image/png": "[encoded data removed]",
      "text/plain": [
       "<Figure size 432x288 with 1 Axes>"
      ]
     },
     "metadata": {},
     "output_type": "display_data"
    }
   ],
   "source": [
    "plt.hist(hail_samples, bins=np.arange(6, 102, 6))\n",
    "#plt.gca().set_yscale('log')"
   ]
  },
  {
   "cell_type": "code",
   "execution_count": 25,
   "metadata": {},
   "outputs": [
    {
     "data": {
      "text/plain": [
       "(array([0.00832816, 0.30509493, 0.55532365, 0.70495479, 0.7845311 ,\n",
       "        0.84807742, 0.87291112, 0.91436873, 0.93365833, 0.95258642,\n",
       "        0.97046445, 0.98599488, 0.99573925, 0.99573925, 0.99936527,\n",
       "        0.99995543, 0.99995543, 1.        , 1.        ]),\n",
       " array([ 0,  5, 10, 15, 20, 25, 30, 35, 40, 45, 50, 55, 60, 65, 70, 75, 80,\n",
       "        85, 90, 95]),\n",
       " <a list of 19 Patch objects>)"
      ]
     },
     "execution_count": 25,
     "metadata": {},
     "output_type": "execute_result"
    },
    {
     "data": {
      "image/png": "[encoded data removed]",
      "text/plain": [
       "<Figure size 432x288 with 1 Axes>"
      ]
     },
     "metadata": {},
     "output_type": "display_data"
    }
   ],
   "source": [
    "plt.hist(hail_sizes, bins=np.arange(0, 100, 5), density=True, cumulative=True)"
   ]
  },
  {
   "cell_type": "code",
   "execution_count": 53,
   "metadata": {},
   "outputs": [],
   "source": [
    "hail_reports = pd.read_csv(\"../2016_hail.csv\")"
   ]
  },
  {
   "cell_type": "code",
   "execution_count": 58,
   "metadata": {},
   "outputs": [
    {
     "data": {
      "text/plain": [
       "array([0.25, 0.5 , 0.7 , 0.75, 0.88, 1.  , 1.1 , 1.12, 1.25, 1.4 , 1.5 ,\n",
       "       1.65, 1.75, 2.  , 2.1 , 2.17, 2.2 , 2.25, 2.3 , 2.5 , 2.75, 3.  ,\n",
       "       3.11, 3.2 , 3.25, 3.43, 3.5 , 4.  , 4.25, 4.5 , 5.  , 5.25])"
      ]
     },
     "execution_count": 58,
     "metadata": {},
     "output_type": "execute_result"
    }
   ],
   "source": [
    "np.unique(hail_reports[\"mag\"])"
   ]
  },
  {
   "cell_type": "code",
   "execution_count": 54,
   "metadata": {},
   "outputs": [],
   "source": [
    "hail_bins_r = np.unique(hail_reports[\"mag\"])\n",
    "hail_counts_r, _ = np.histogram(hail_reports[\"mag\"], hail_bins_r)\n",
    "all_hail_samples_r = []\n",
    "for h, hail_count in enumerate(hail_counts_r):\n",
    "    all_hail_samples_r.append(np.random.uniform(hail_bins_r[h], hail_bins_r[h+1], size=hail_count))\n",
    "hail_samples_r = np.concatenate(all_hail_samples_r)"
   ]
  },
  {
   "cell_type": "code",
   "execution_count": 49,
   "metadata": {},
   "outputs": [
    {
     "data": {
      "text/plain": [
       "(array([4.000e+00, 5.000e+00, 2.950e+02, 1.670e+03, 3.990e+03, 5.810e+02,\n",
       "        4.520e+02, 4.380e+02, 1.006e+03, 4.990e+02, 2.100e+01, 4.400e+01,\n",
       "        1.510e+02, 1.150e+02, 9.000e+01, 3.000e+00, 4.000e+00, 3.000e+00]),\n",
       " array([ 5, 10, 15, 20, 25, 30, 35, 40, 45, 50, 55, 60, 65, 70, 75, 80, 85,\n",
       "        90, 95]),\n",
       " <a list of 18 Patch objects>)"
      ]
     },
     "execution_count": 49,
     "metadata": {},
     "output_type": "execute_result"
    },
    {
     "data": {
      "image/png": "[encoded data removed]",
      "text/plain": [
       "<Figure size 432x288 with 1 Axes>"
      ]
     },
     "metadata": {},
     "output_type": "display_data"
    }
   ],
   "source": [
    "plt.hist(hail_samples_r * 25.4, bins=np.arange(5, 100, 5))"
   ]
  },
  {
   "cell_type": "code",
   "execution_count": 12,
   "metadata": {},
   "outputs": [
    {
     "data": {
      "text/plain": [
       "Index(['om', 'yr', 'mo', 'dy', 'date', 'time', 'tz', 'st', 'stf', 'stn', 'mag',\n",
       "       'inj', 'fat', 'loss', 'closs', 'slat', 'slon', 'elat', 'elon', 'len',\n",
       "       'wid', 'ns', 'sn', 'sg', 'f1', 'f2', 'f3', 'f4'],\n",
       "      dtype='object')"
      ]
     },
     "execution_count": 12,
     "metadata": {},
     "output_type": "execute_result"
    }
   ],
   "source": [
    "hail_reports.columns"
   ]
  },
  {
   "cell_type": "code",
   "execution_count": 6,
   "metadata": {},
   "outputs": [],
   "source": [
    "proj_params = dict(\n",
    "            proj=\"lcc\",\n",
    "            a=6370000,\n",
    "            b=6370000,\n",
    "            lat_0=38.33643,\n",
    "            lon_0=-101.,\n",
    "            lat_1=32.0,\n",
    "            lat_2=46.0,\n",
    "            units=\"m\")\n",
    "us_proj = Proj(projparams=proj_params)"
   ]
  },
  {
   "cell_type": "code",
   "execution_count": 7,
   "metadata": {},
   "outputs": [],
   "source": [
    "hail_report_x, hail_report_y = us_proj(hail_reports[\"slon\"].values, hail_reports[\"slat\"].values)"
   ]
  },
  {
   "cell_type": "code",
   "execution_count": 8,
   "metadata": {},
   "outputs": [],
   "source": [
    "max_hail_x, max_hail_y = us_proj(hail_data[1][\"center_lon\"].values, hail_data[1][\"center_lat\"].values)"
   ]
  },
  {
   "cell_type": "code",
   "execution_count": 9,
   "metadata": {},
   "outputs": [
    {
     "name": "stdout",
     "output_type": "stream",
     "text": [
      "20000 0 [0 0 0 0]\n",
      "20000 10000 [ 238 2849  368 6429]\n",
      "20000 20000 [  715  5402   827 12758]\n",
      "20000 30000 [  931  8272  1006 19381]\n",
      "20000 40000 [ 1114 10746  1067 26625]\n",
      "20000 50000 [ 1365 13708  1236 33200]\n",
      "20000 60000 [ 1530 16428  1382 40093]\n",
      "20000 70000 [ 1740 19481  1543 46584]\n",
      "20000 80000 [ 1878 21991  1722 53669]\n",
      "20000 90000 [ 2040 24609  1868 60656]\n",
      "20000 100000 [ 2145 28126  1970 66839]\n",
      "20000 110000 [ 2165 30159  2002 74739]\n",
      "40000 0 [ 2168 30626  2009 78480]\n",
      "40000 10000 [ 2722 33134  2952 84234]\n",
      "40000 20000 [ 3777 35084  4031 89835]\n",
      "40000 30000 [ 4229 37657  4495 96071]\n",
      "40000 40000 [  4661  39874   4709 103130]\n",
      "40000 50000 [  5265  42467   5196 109377]\n",
      "40000 60000 [  5717  44850   5639 115886]\n",
      "40000 70000 [  6264  47497   6118 121926]\n",
      "40000 80000 [  6650  49720   6606 128627]\n",
      "40000 90000 [  7090  52024   7006 135243]\n",
      "40000 100000 [  7417  55232   7342 141058]\n",
      "40000 110000 [  7482  57208   7484 148825]\n",
      "60000 0 [  7498  57655   7517 152522]\n",
      "60000 10000 [  8375  59826   9021 157612]\n",
      "60000 20000 [  9842  61354  10716 162532]\n",
      "60000 30000 [ 10532  63647  11560 168309]\n",
      "60000 40000 [ 11175  65638  11955 175156]\n",
      "60000 50000 [ 12107  67889  12765 181055]\n",
      "60000 60000 [ 12866  69942  13525 187107]\n",
      "60000 70000 [ 13822  72150  14378 192676]\n",
      "60000 80000 [ 14478  74079  15271 198924]\n",
      "60000 90000 [ 15218  76053  15983 205074]\n",
      "60000 100000 [ 15798  78919  16647 210399]\n",
      "60000 110000 [ 15961  80785  16959 217966]\n",
      "80000 0 [ 15996  81199  17050 221576]\n",
      "80000 10000 [ 17131  83097  19055 226067]\n",
      "80000 20000 [ 18936  84306  21372 230333]\n",
      "80000 30000 [ 19912  86300  22598 235691]\n",
      "80000 40000 [ 20742  88098  23184 242324]\n",
      "80000 50000 [ 21950  90073  24320 247878]\n",
      "80000 60000 [ 22983  91824  25432 253437]\n",
      "80000 70000 [ 24285  93677  26686 258471]\n",
      "80000 80000 [ 25222  95350  27952 264287]\n",
      "80000 90000 [ 26272  97011  28975 270048]\n",
      "80000 100000 [ 27161  99497  30003 274859]\n",
      "80000 110000 [ 27432 101245  30526 282175]\n",
      "100000 0 [ 27489 101635  30663 285706]\n",
      "100000 10000 [ 28819 103339  33133 289716]\n",
      "100000 20000 [ 30853 104317  36056 293355]\n",
      "100000 30000 [ 32055 106067  37633 298318]\n",
      "100000 40000 [ 33067 107661  38405 304740]\n",
      "100000 50000 [ 34549 109358  39842 309976]\n",
      "100000 60000 [ 35863 110791  41220 315126]\n",
      "100000 70000 [ 37507 112317  42925 319634]\n",
      "100000 80000 [ 38659 113769  44535 325035]\n",
      "100000 90000 [ 39969 115160  45876 330400]\n",
      "100000 100000 [ 41184 117283  47228 334799]\n",
      "100000 110000 [ 41562 118910  48009 341820]\n",
      "120000 0 [ 41647 119256  48208 345260]\n",
      "120000 10000 [ 43091 120836  51055 348862]\n",
      "120000 20000 [ 45344 121616  54542 351957]\n",
      "120000 30000 [ 46755 123155  56485 356529]\n",
      "120000 40000 [ 47890 124612  57442 362724]\n",
      "120000 50000 [ 49611 126080  59176 367652]\n",
      "120000 60000 [ 51159 127250  60895 372337]\n",
      "120000 70000 [ 53061 128520  62998 376379]\n",
      "120000 80000 [ 54402 129774  64918 381427]\n",
      "120000 90000 [ 55957 130931  66575 386448]\n",
      "120000 100000 [ 57529 132692  68330 390390]\n",
      "120000 110000 [ 58002 134216  69402 397095]\n",
      "140000 0 [ 58114 134520  69659 400426]\n",
      "140000 10000 [ 59656 135994  72889 403655]\n",
      "140000 20000 [ 62076 136618  76880 406306]\n",
      "140000 30000 [ 63687 137975  79190 410505]\n",
      "140000 40000 [ 64947 139286  80335 416482]\n",
      "140000 50000 [ 66838 140587  82322 421148]\n",
      "140000 60000 [ 68575 141571  84343 425451]\n",
      "140000 70000 [ 70665 142669  86827 429044]\n",
      "140000 80000 [ 72163 143756  89006 433792]\n",
      "140000 90000 [ 73903 144734  90920 438491]\n",
      "140000 100000 [ 75818 146177  93079 442028]\n",
      "140000 110000 [ 76401 147588  94426 448417]\n",
      "160000 0 [ 76553 147844  94763 451644]\n",
      "160000 10000 [ 78192 149213  98301 454575]\n",
      "160000 20000 [ 80735 149714 102717 456833]\n",
      "160000 30000 [ 82504 150938 105377 460660]\n",
      "160000 40000 [ 83855 152161 106700 466435]\n",
      "160000 50000 [ 85882 153325 108862 470916]\n",
      "160000 60000 [ 87777 154145 111181 474861]\n",
      "160000 70000 [ 90021 155100 114020 478072]\n",
      "160000 80000 [ 91651 156053 116474 482536]\n",
      "160000 90000 [ 93512 156918 118634 486963]\n",
      "160000 100000 [ 95681 158134 121177 490125]\n",
      "160000 110000 [ 96400 159395 122793 496235]\n",
      "180000 0 [ 96595 159599 123211 499351]\n",
      "180000 10000 [ 98329 160876 127022 502003]\n",
      "180000 20000 [100972 161279 131806 503911]\n",
      "180000 30000 [102850 162412 134825 507379]\n",
      "180000 40000 [104264 163562 136336 512953]\n",
      "180000 50000 [106406 164617 138646 517270]\n",
      "180000 60000 [108443 165288 141237 520840]\n",
      "180000 70000 [110799 166122 144367 523743]\n",
      "180000 80000 [112551 166948 147076 527917]\n",
      "180000 90000 [114505 167725 149436 532115]\n",
      "180000 100000 [116919 168730 152333 534940]\n",
      "180000 110000 [117738 169866 154243 540757]\n",
      "200000 0 [117991 170034 154738 543779]\n",
      "200000 10000 [119810 171221 158763 546217]\n",
      "200000 20000 [122538 171541 163878 547818]\n",
      "200000 30000 [124527 172584 167170 550986]\n",
      "200000 40000 [125998 173673 168848 556354]\n",
      "200000 50000 [128207 174657 171297 560520]\n",
      "200000 60000 [130384 175198 174168 563806]\n",
      "200000 70000 [132840 175932 177582 566413]\n",
      "200000 80000 [134701 176644 180528 570317]\n",
      "200000 90000 [136729 177367 183086 574295]\n",
      "200000 100000 [139355 178210 186301 576815]\n",
      "200000 110000 [140286 179230 188470 582359]\n"
     ]
    }
   ],
   "source": [
    "model_valid_dates = pd.DatetimeIndex(hail_data[1][\"valid_dates\"])\n",
    "report_valid_dates = pd.DatetimeIndex(hail_reports[\"date\"] + \"T\" + hail_reports[\"time\"]) + pd.Timedelta(hours=6)\n",
    "distances = np.arange(20000, 220000, 20000)\n",
    "hail_ct = np.zeros((distances.size, 4), dtype=int)\n",
    "for d, dist in enumerate(distances):\n",
    "    for i in range(max_hail.size):\n",
    "        if i % 10000 == 0:\n",
    "            print(dist, i, hail_ct.sum(axis=0))\n",
    "        time_diff = (np.abs(model_valid_dates[i] - report_valid_dates) < pd.Timedelta(hours=6))\n",
    "        if np.count_nonzero(time_diff) == 0:\n",
    "            if max_hail[i] >= 25:\n",
    "                hail_ct[d, 1] += 1\n",
    "            else:\n",
    "                hail_ct[d, 3] += 1\n",
    "            continue\n",
    "        distance_diff = np.sqrt((max_hail_x[i] - hail_report_x[time_diff]) ** 2 + \n",
    "                                (max_hail_y[i] - hail_report_y[time_diff]) ** 2) < dist\n",
    "        if np.count_nonzero(distance_diff) == 0:\n",
    "            if max_hail[i] >= 25:\n",
    "                hail_ct[d, 1] += 1\n",
    "            else:\n",
    "                hail_ct[d, 3] += 1\n",
    "            continue\n",
    "        max_hail_report_size = hail_reports.loc[time_diff, \"mag\"].loc[distance_diff].max() * 25.4\n",
    "        if max_hail_report_size >= 25:\n",
    "            if max_hail[i] > 25:\n",
    "                hail_ct[d, 0] += 1\n",
    "            else:\n",
    "                hail_ct[d, 2] += 1\n",
    "        "
   ]
  },
  {
   "cell_type": "code",
   "execution_count": 14,
   "metadata": {},
   "outputs": [],
   "source": [
    "hail_ct_df = pd.DataFrame(hail_ct, index=(distances / 1000).astype(int), columns=[\"TP\", \"FP\", \"FN\", \"TN\"])\n",
    "hail_ct_df.to_csv(\"thompson_hail_ct_distance.csv\", index_label=\"Distance\")"
   ]
  },
  {
   "cell_type": "code",
   "execution_count": 29,
   "metadata": {},
   "outputs": [
    {
     "data": {
      "text/html": [
       "<div>\n",
       "<style scoped>\n",
       "    .dataframe tbody tr th:only-of-type {\n",
       "        vertical-align: middle;\n",
       "    }\n",
       "\n",
       "    .dataframe tbody tr th {\n",
       "        vertical-align: top;\n",
       "    }\n",
       "\n",
       "    .dataframe thead th {\n",
       "        text-align: right;\n",
       "    }\n",
       "</style>\n",
       "<table border=\"1\" class=\"dataframe\">\n",
       "  <thead>\n",
       "    <tr style=\"text-align: right;\">\n",
       "      <th></th>\n",
       "      <th>TP</th>\n",
       "      <th>FP</th>\n",
       "      <th>FN</th>\n",
       "      <th>TN</th>\n",
       "    </tr>\n",
       "    <tr>\n",
       "      <th>Distance</th>\n",
       "      <th></th>\n",
       "      <th></th>\n",
       "      <th></th>\n",
       "      <th></th>\n",
       "    </tr>\n",
       "  </thead>\n",
       "  <tbody>\n",
       "    <tr>\n",
       "      <th>20</th>\n",
       "      <td>2168</td>\n",
       "      <td>30626</td>\n",
       "      <td>2009</td>\n",
       "      <td>78480</td>\n",
       "    </tr>\n",
       "    <tr>\n",
       "      <th>40</th>\n",
       "      <td>5330</td>\n",
       "      <td>27029</td>\n",
       "      <td>5508</td>\n",
       "      <td>74042</td>\n",
       "    </tr>\n",
       "    <tr>\n",
       "      <th>60</th>\n",
       "      <td>8498</td>\n",
       "      <td>23544</td>\n",
       "      <td>9533</td>\n",
       "      <td>69054</td>\n",
       "    </tr>\n",
       "    <tr>\n",
       "      <th>80</th>\n",
       "      <td>11493</td>\n",
       "      <td>20436</td>\n",
       "      <td>13613</td>\n",
       "      <td>64130</td>\n",
       "    </tr>\n",
       "    <tr>\n",
       "      <th>100</th>\n",
       "      <td>14158</td>\n",
       "      <td>17621</td>\n",
       "      <td>17545</td>\n",
       "      <td>59554</td>\n",
       "    </tr>\n",
       "    <tr>\n",
       "      <th>120</th>\n",
       "      <td>16467</td>\n",
       "      <td>15264</td>\n",
       "      <td>21451</td>\n",
       "      <td>55166</td>\n",
       "    </tr>\n",
       "    <tr>\n",
       "      <th>140</th>\n",
       "      <td>18439</td>\n",
       "      <td>13324</td>\n",
       "      <td>25104</td>\n",
       "      <td>51218</td>\n",
       "    </tr>\n",
       "    <tr>\n",
       "      <th>160</th>\n",
       "      <td>20042</td>\n",
       "      <td>11755</td>\n",
       "      <td>28448</td>\n",
       "      <td>47707</td>\n",
       "    </tr>\n",
       "    <tr>\n",
       "      <th>180</th>\n",
       "      <td>21396</td>\n",
       "      <td>10435</td>\n",
       "      <td>31527</td>\n",
       "      <td>44428</td>\n",
       "    </tr>\n",
       "    <tr>\n",
       "      <th>200</th>\n",
       "      <td>22585</td>\n",
       "      <td>9349</td>\n",
       "      <td>34289</td>\n",
       "      <td>41516</td>\n",
       "    </tr>\n",
       "  </tbody>\n",
       "</table>\n",
       "</div>"
      ],
      "text/plain": [
       "             TP     FP     FN     TN\n",
       "Distance                            \n",
       "20         2168  30626   2009  78480\n",
       "40         5330  27029   5508  74042\n",
       "60         8498  23544   9533  69054\n",
       "80        11493  20436  13613  64130\n",
       "100       14158  17621  17545  59554\n",
       "120       16467  15264  21451  55166\n",
       "140       18439  13324  25104  51218\n",
       "160       20042  11755  28448  47707\n",
       "180       21396  10435  31527  44428\n",
       "200       22585   9349  34289  41516"
      ]
     },
     "execution_count": 29,
     "metadata": {},
     "output_type": "execute_result"
    }
   ],
   "source": [
    "hail_ct_df"
   ]
  },
  {
   "cell_type": "code",
   "execution_count": 4,
   "metadata": {},
   "outputs": [],
   "source": [
    "distances = np.arange(20000, 220000, 20000)\n",
    "\n",
    "hail_ct_df = pd.read_csv(\"thompson_hail_ct_distance.csv\", index_col=\"Distance\")"
   ]
  },
  {
   "cell_type": "code",
   "execution_count": 5,
   "metadata": {},
   "outputs": [],
   "source": [
    "ct_dists = np.array([ContingencyTable(*hail_ct_df.iloc[i]) for i in range(hail_ct_df.shape[0])])"
   ]
  },
  {
   "cell_type": "code",
   "execution_count": 47,
   "metadata": {},
   "outputs": [
    {
     "data": {
      "text/plain": [
       "KernelDensity(algorithm='auto', atol=0, bandwidth=3, breadth_first=True,\n",
       "       kernel='gaussian', leaf_size=1000, metric='euclidean',\n",
       "       metric_params=None, rtol=0)"
      ]
     },
     "execution_count": 47,
     "metadata": {},
     "output_type": "execute_result"
    }
   ],
   "source": [
    "kde_max = KernelDensity(bandwidth=3, leaf_size=1000)\n",
    "kde_all = KernelDensity(bandwidth=3, leaf_size=1000)\n",
    "kde_max.fit(hail_samples_max.reshape(-1, 1))\n",
    "kde_all.fit(hail_samples_all.reshape(-1, 1))"
   ]
  },
  {
   "cell_type": "code",
   "execution_count": 48,
   "metadata": {},
   "outputs": [],
   "source": [
    "h_bins = np.arange(0, 76, 0.1)\n",
    "max_pdf = np.exp(kde_max.score_samples(h_bins.reshape(-1, 1)))\n",
    "all_pdf = np.exp(kde_all.score_samples(h_bins.reshape(-1, 1)))"
   ]
  },
  {
   "cell_type": "code",
   "execution_count": 66,
   "metadata": {},
   "outputs": [
    {
     "data": {
      "image/png": "[encoded data removed]",
      "text/plain": [
       "<Figure size 576x720 with 2 Axes>"
      ]
     },
     "metadata": {},
     "output_type": "display_data"
    }
   ],
   "source": [
    "plt.figure(figsize=(8, 10))\n",
    "plt.subplot(2, 1, 1)\n",
    "plt.plot(h_bins, max_pdf, color=\"red\", label=\"Surface Storm Maxima\")\n",
    "plt.plot(h_bins, all_pdf, color=\"purple\", label=\"Surface All Grid Cells\")\n",
    "plt.legend(fontsize=12)\n",
    "#plt.hist(hail_samples_max, bins=np.arange(0, 76, 4), color='purple', density=True, histtype=\"step\")\n",
    "#plt.hist(hail_samples_all, bins=np.arange(0, 76, 4), color='red', density=True, histtype=\"step\")\n",
    "#plt.hist(hail_samples_r * 25.4, bins=np.arange(0, 76, 1), color='lightblue', density=True)\n",
    "plt.gca().set_yscale(\"log\")\n",
    "plt.hist(hail_reports.loc[hail_reports[\"mo\"] == 5, \"mag\"] * 25.4, bins=np.arange(0, 76, 1), color='lightblue', density=True)\n",
    "\n",
    "plt.xticks(np.arange(0, 77, 12.5))\n",
    "plt.xlabel(\"Thompson Storm Max Surface Hail Diameter (mm)\", fontsize=14)\n",
    "plt.ylabel(\"Relative Frequency\", fontsize=14)\n",
    "plt.subplot(2, 1, 2)\n",
    "plt.plot(distances / 1000, [ct_dists[i].hss() for i in range(ct_dists.size)], marker='o', color='purple', label=\"Heidke Skill Score\")\n",
    "plt.plot(distances / 1000, [ct_dists[i].pod() for i in range(ct_dists.size)], marker='^', color='r', label=\"Probability of Detection\")\n",
    "plt.plot(distances / 1000, [1-ct_dists[i].far() for i in range(ct_dists.size)], marker='v', color='blue', label=\"Success Ratio\")\n",
    "plt.legend(fontsize=12)\n",
    "plt.xticks(np.arange(20, 220, 20))\n",
    "plt.xlabel(\"Maximum Hail Report Distance Threshold (km)\", fontsize=14)\n",
    "plt.ylabel(\"Severe Hail Scores\", fontsize=14)\n",
    "plt.savefig(\"thompson_verif.pdf\", bbox_inches=\"tight\")"
   ]
  },
  {
   "cell_type": "code",
   "execution_count": 48,
   "metadata": {},
   "outputs": [],
   "source": [
    "ct = ContingencyTable(*hail_ct.sum(axis=0))"
   ]
  }
 ],
 "metadata": {
  "kernelspec": {
   "display_name": "Python 3",
   "language": "python",
   "name": "python3"
  },
  "language_info": {
   "codemirror_mode": {
    "name": "ipython",
    "version": 3
   },
   "file_extension": ".py",
   "mimetype": "text/x-python",
   "name": "python",
   "nbconvert_exporter": "python",
   "pygments_lexer": "ipython3",
   "version": "3.6.4"
  }
 },
 "nbformat": 4,
 "nbformat_minor": 2
}
